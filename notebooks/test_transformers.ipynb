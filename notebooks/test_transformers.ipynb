{
 "cells": [
  {
   "cell_type": "code",
   "execution_count": 1,
   "id": "cc3629b7-187f-4e37-98ef-43f5cd7e103c",
   "metadata": {
    "scrolled": true
   },
   "outputs": [
    {
     "name": "stderr",
     "output_type": "stream",
     "text": [
      "/Users/carlalasry/opt/anaconda3/envs/venv_vit/lib/python3.8/site-packages/tqdm/auto.py:21: TqdmWarning: IProgress not found. Please update jupyter and ipywidgets. See https://ipywidgets.readthedocs.io/en/stable/user_install.html\n",
      "  from .autonotebook import tqdm as notebook_tqdm\n"
     ]
    }
   ],
   "source": [
    "import transformers\n",
    "from transformers import ViTImageProcessor, ViTForImageClassification, ViTFeatureExtractor\n",
    "import PIL\n",
    "import requests\n",
    "import glob\n",
    "import os\n",
    "from scipy import spatial\n",
    "from IPython.display import Image, display\n",
    "import pandas as pd\n",
    "from tqdm import tqdm\n",
    "import torch\n",
    "import matplotlib.pyplot as plt"
   ]
  },
  {
   "cell_type": "markdown",
   "id": "a162ec3b-c0e3-46d4-b3b8-07482d96fb77",
   "metadata": {},
   "source": [
    "# Functions"
   ]
  },
  {
   "cell_type": "code",
   "execution_count": 2,
   "id": "2c296551-095b-4914-bc9b-c0cb58a3b5cc",
   "metadata": {},
   "outputs": [],
   "source": [
    "def load_image(image_filename):\n",
    "    # print(image_filename)\n",
    "    image = PIL.Image.open(image_filename)\n",
    "    return image"
   ]
  },
  {
   "cell_type": "code",
   "execution_count": 3,
   "id": "8551e75f-aef6-4d8c-add6-c94be0c8a54c",
   "metadata": {},
   "outputs": [],
   "source": [
    "def load_images_folder(folder_path):\n",
    "    images = []\n",
    "    for img_filename in tqdm(os.listdir(folder_path)):\n",
    "        if img_filename==\".DS_Store\":\n",
    "            continue\n",
    "        img = load_image(os.path.join(folder_path, img_filename))\n",
    "        images.append(img)\n",
    "    return images"
   ]
  },
  {
   "cell_type": "code",
   "execution_count": 4,
   "id": "89328433-0d9e-4209-b385-34f11b65664a",
   "metadata": {},
   "outputs": [],
   "source": [
    "def process_input(images_list, processor):\n",
    "    inputs = processor(images=images_list, return_tensors=\"pt\")\n",
    "    [img.close() for img in images_list]\n",
    "    return inputs"
   ]
  },
  {
   "cell_type": "code",
   "execution_count": 5,
   "id": "26884c4d-b53e-47dc-9b97-20266041c8f4",
   "metadata": {},
   "outputs": [],
   "source": [
    "def get_vit_features(model, inputs):\n",
    "    outputs = model(**inputs)\n",
    "    logits = outputs.logits\n",
    "    return logits"
   ]
  },
  {
   "cell_type": "code",
   "execution_count": 6,
   "id": "90098fb2-339a-437f-b1d0-20f534786f54",
   "metadata": {},
   "outputs": [],
   "source": [
    "def get_cosine_similarity_for_two_images(features_1, features_2):\n",
    "    # cosine similarity\n",
    "    cosine_similarity = 1 - spatial.distance.cosine(features_1, features_2)\n",
    "    return cosine_similarity"
   ]
  },
  {
   "cell_type": "code",
   "execution_count": 7,
   "id": "650bd0c5-7abe-4059-a7be-3af4b42db39c",
   "metadata": {},
   "outputs": [],
   "source": [
    "def get_mahattan_similarity_for_two_images(features_1, features_2):\n",
    "    # cosine similarity\n",
    "    mahattan_similarity = 1 - spatial.distance.cityblock(features_1, features_2)\n",
    "    return mahattan_similarity"
   ]
  },
  {
   "cell_type": "code",
   "execution_count": 8,
   "id": "53769b90-90f4-461f-84f1-b18d58f5d784",
   "metadata": {},
   "outputs": [],
   "source": [
    "def get_filenames(source_dir):\n",
    "    l = os.listdir(source_dir)\n",
    "    if \".DS_Store\" in l:\n",
    "        l.remove(\".DS_Store\")\n",
    "    return l"
   ]
  },
  {
   "cell_type": "code",
   "execution_count": 9,
   "id": "6f4beb12-4be1-49c9-ad77-c8e0e9f34139",
   "metadata": {},
   "outputs": [],
   "source": [
    "def get_number_tps(df_results):\n",
    "    c_tps = 0\n",
    "    res_tps = [] \n",
    "    c_fps = 0 \n",
    "    res_fps = []\n",
    "    for row in df_results.iterrows():\n",
    "        cap_id = row[0].split(\"_\")[0]\n",
    "        sess_id = row[1][\"max\"].split(\"_\")[0]\n",
    "        if cap_id == sess_id:\n",
    "            c_tps += 1\n",
    "            if df_results.loc[row[0]][row[1][\"max\"]] == 0:\n",
    "                c_tps = c_tps - 1\n",
    "            else:\n",
    "                res_tps.append((row[0],row[1][\"max\"], df_results.loc[row[0]][row[1][\"max\"]]))\n",
    "        else:\n",
    "            if df_results.loc[row[0]][row[1][\"max\"]] == 0:\n",
    "                continue\n",
    "            else:\n",
    "                c_fps += 1\n",
    "                res_fps.append((row[0],row[1][\"max\"], df_results.loc[row[0]][row[1][\"max\"]]))\n",
    "    return c_tps, c_fps, res_tps, res_fps"
   ]
  },
  {
   "cell_type": "code",
   "execution_count": 10,
   "id": "6edd4d5d-d91f-4ab0-8b1d-6386d544efe7",
   "metadata": {},
   "outputs": [],
   "source": [
    "def get_all_results(caps_filenames, caps_images, outputs_caps, streams_filenames, streams_images, outputs_streams):\n",
    "    results = {}\n",
    "    for cap_filename, cap_img, cap in zip(caps_filenames, caps_images, outputs_caps):\n",
    "        cap_sess_id = cap_filename.split(\"_\")[0]\n",
    "        results[cap_sess_id] = {}\n",
    "        for stream_filename, stream_img, stream in zip(streams_filenames, streams_images, outputs_streams):\n",
    "            cosine_similarity = get_cosine_similarity_for_two_images(cap.tolist(), stream.tolist())\n",
    "            stream_sess_id = stream_filename.split(\"_\")[0]\n",
    "            results[cap_sess_id][stream_sess_id] = cosine_similarity\n",
    "    return results"
   ]
  },
  {
   "cell_type": "code",
   "execution_count": 11,
   "id": "e7e61d75-10b5-41e3-a117-87632252ee59",
   "metadata": {},
   "outputs": [],
   "source": [
    "def get_percentile_tp(df_results):\n",
    "    df_new = df_results.copy()\n",
    "    df_new.drop([\"max\"],axis=1, inplace=True)\n",
    "    df_new[\"index_tp\"] = 10000\n",
    "    df_new[\"score_tp\"] = 10000\n",
    "    df_new[\"max_score_fp\"] = 10000\n",
    "    \n",
    "    for row in df_new.iterrows():\n",
    "        cap_id = row[0].split(\"_\")[0]\n",
    "        columns_sorted = row[1].drop([\"index_tp\"]).sort_values(ascending=False).index\n",
    "        sessions_sorted = [s.split(\"_\")[0] for s in columns_sorted]\n",
    "        index_tp = sessions_sorted.index(cap_id)\n",
    "        sess_id = [s for s in columns_sorted.values if s.split(\"_\")[0]==cap_id][0]\n",
    "        df_new.loc[row[0], \"index_tp\"]= (index_tp/len(df_new))\n",
    "        max_score_fp = df_results.loc[row[0]].drop([sess_id, \"max\"]).max()\n",
    "        df_new.loc[row[0], \"score_tp\"] = df_new.loc[row[0], sess_id]\n",
    "        df_new.loc[row[0], \"max_score_fp\"] = max_score_fp\n",
    "    return df_new\n"
   ]
  },
  {
   "cell_type": "code",
   "execution_count": 79,
   "id": "7959c809-1ef1-463a-acd2-e7d3d4554a8e",
   "metadata": {},
   "outputs": [],
   "source": [
    "def get_tps_fps_percentage(dict_df_filtered):\n",
    "    dict_results = {}\n",
    "    for key in dict_df_filtered.keys():\n",
    "        new_key = key.split(\"_\")[0]\n",
    "        dict_results[new_key] = dict_df_filtered[key]\n",
    "    tps = 0\n",
    "    fps = 0\n",
    "    for key in dict_results.keys():\n",
    "        for stream in dict_results[key]:\n",
    "            stream_id = stream.split(\"_\")[0]\n",
    "            if key == stream_id:\n",
    "                tps += 1\n",
    "            else:\n",
    "                fps+=1\n",
    "    return tps, fps"
   ]
  },
  {
   "cell_type": "code",
   "execution_count": 12,
   "id": "0c9eed16-a0a4-4073-81f6-7cc875a345d0",
   "metadata": {},
   "outputs": [],
   "source": [
    "caps_filenames = get_filenames(\"/Users/carlalasry/Desktop/captures_tps_2200/\")"
   ]
  },
  {
   "cell_type": "code",
   "execution_count": 14,
   "id": "dc4e4faf-0502-4c49-8027-90014a9b2fd7",
   "metadata": {},
   "outputs": [],
   "source": [
    "# streams_filenames = get_filenames(\"/Users/carlalasry/Desktop/streams_tps_500/\")\n",
    "streams_filenames = get_filenames(\"/Users/carlalasry/Desktop/streams_tps_2200/\")"
   ]
  },
  {
   "cell_type": "code",
   "execution_count": 58,
   "id": "5b79c6c2-e9ef-45b6-8b78-bab6a27763c9",
   "metadata": {},
   "outputs": [],
   "source": [
    "results_vit = pd.read_csv(\"dataframes/results_500_tps.csv\", index_col=0).T"
   ]
  },
  {
   "cell_type": "code",
   "execution_count": 18,
   "id": "7d11c5d8-581b-47bb-a168-1411021a5d6e",
   "metadata": {},
   "outputs": [],
   "source": [
    "results_vit['max'] = results_vit.idxmax(axis=1)\n"
   ]
  },
  {
   "cell_type": "code",
   "execution_count": 19,
   "id": "c532f819-e4ee-4a34-ad9c-b757ab9bafb4",
   "metadata": {},
   "outputs": [],
   "source": [
    "c_tps_vit, c_fps_vit, res_tps_vit, res_fps_vit = get_number_tps(results_vit)"
   ]
  },
  {
   "cell_type": "code",
   "execution_count": 20,
   "id": "6ccd0503-ecaf-47c6-ad4e-646226000602",
   "metadata": {},
   "outputs": [
    {
     "data": {
      "text/plain": [
       "56"
      ]
     },
     "execution_count": 20,
     "metadata": {},
     "output_type": "execute_result"
    }
   ],
   "source": [
    "c_tps_vit"
   ]
  },
  {
   "cell_type": "code",
   "execution_count": 59,
   "id": "ef084f5f-f1cc-4b89-8c23-4f108e76e304",
   "metadata": {},
   "outputs": [],
   "source": [
    "results_beit = pd.read_csv(\"dataframes/results_500_tps_microsoft_model.csv\", index_col=0).T"
   ]
  },
  {
   "cell_type": "code",
   "execution_count": 22,
   "id": "5f80aa96-159e-4a77-bd52-6e0879511ce7",
   "metadata": {},
   "outputs": [
    {
     "data": {
      "text/plain": [
       "(500, 500)"
      ]
     },
     "execution_count": 22,
     "metadata": {},
     "output_type": "execute_result"
    }
   ],
   "source": [
    "results_beit.shape"
   ]
  },
  {
   "cell_type": "code",
   "execution_count": 23,
   "id": "4346f1d4-b24d-461a-b7de-11c19596f49b",
   "metadata": {},
   "outputs": [],
   "source": [
    "results_beit['max'] = results_beit.idxmax(axis=1)"
   ]
  },
  {
   "cell_type": "code",
   "execution_count": 24,
   "id": "3af916c7-f3fb-4481-ace1-33bf937d040f",
   "metadata": {},
   "outputs": [],
   "source": [
    "c_tps_beit, c_fps_beit, res_tps_beit, res_fps_beit = get_number_tps(results_beit)"
   ]
  },
  {
   "cell_type": "code",
   "execution_count": 25,
   "id": "db391fb8-bd28-4511-ba2d-d210c8cd3b98",
   "metadata": {},
   "outputs": [
    {
     "data": {
      "text/plain": [
       "308"
      ]
     },
     "execution_count": 25,
     "metadata": {},
     "output_type": "execute_result"
    }
   ],
   "source": [
    "c_tps_beit"
   ]
  },
  {
   "cell_type": "code",
   "execution_count": 27,
   "id": "780d4285-6a6a-47cf-a851-8e495ab2a067",
   "metadata": {},
   "outputs": [],
   "source": [
    "#vgg results\n",
    "with open(\"dataframes/similarity_captures_tps_500.txt\",\"r\") as f:\n",
    "    scores = f.readlines()\n",
    "f.close()"
   ]
  },
  {
   "cell_type": "code",
   "execution_count": 28,
   "id": "aa66f964-a19b-4454-bbd1-95da659574c8",
   "metadata": {},
   "outputs": [],
   "source": [
    "#vgg results\n",
    "with open(\"dataframes/crop_names_captures_tps_500.txt\", \"r\") as f :\n",
    "    caps_names = f.readlines()\n",
    "f.close()"
   ]
  },
  {
   "cell_type": "code",
   "execution_count": 29,
   "id": "b9ecbaa1-da98-4488-8b12-63d351272fd8",
   "metadata": {},
   "outputs": [],
   "source": [
    "caps_filenames = [s.split(\"\\n\")[0].split(\"/\")[-1] for s in caps_names]"
   ]
  },
  {
   "cell_type": "code",
   "execution_count": 30,
   "id": "d9601abf-cf98-4f80-876f-31c4f7e62a3b",
   "metadata": {},
   "outputs": [],
   "source": [
    "with open(\"dataframes/crop_names_streams_tps_500.txt\", \"r\") as f :\n",
    "    streams_names = f.readlines()\n",
    "f.close()"
   ]
  },
  {
   "cell_type": "code",
   "execution_count": 31,
   "id": "66109a2c-3a61-4922-879f-90368d758331",
   "metadata": {},
   "outputs": [],
   "source": [
    "streams_filenames = [s.split(\"\\n\")[0].split(\"/\")[-1] for s in streams_names]"
   ]
  },
  {
   "cell_type": "code",
   "execution_count": 32,
   "id": "6dbc5ccd-dd7f-4236-adfe-c340d888c30c",
   "metadata": {},
   "outputs": [
    {
     "data": {
      "text/plain": [
       "500"
      ]
     },
     "execution_count": 32,
     "metadata": {},
     "output_type": "execute_result"
    }
   ],
   "source": [
    "len(scores)"
   ]
  },
  {
   "cell_type": "code",
   "execution_count": 33,
   "id": "9f3d46bb-c23a-40e0-a7dc-381836df156d",
   "metadata": {},
   "outputs": [],
   "source": [
    "results_vgg = {}\n",
    "for cap_filename, row in zip(caps_filenames, scores):\n",
    "    results_vgg[cap_filename] = {}\n",
    "    res_cap = [float(i) for i in row.split(\" \")]\n",
    "    for stream_filename, res_stream in zip(streams_filenames, res_cap):\n",
    "        results_vgg[cap_filename][stream_filename] = res_stream\n"
   ]
  },
  {
   "cell_type": "code",
   "execution_count": 34,
   "id": "be74ca04-0518-466f-a988-83253d5b7728",
   "metadata": {},
   "outputs": [],
   "source": [
    "results_vgg_df = pd.DataFrame(results_vgg).T\n",
    "results_vgg_df['max'] = results_vgg_df.idxmax(axis=1)"
   ]
  },
  {
   "cell_type": "code",
   "execution_count": 35,
   "id": "b9b34e4d-09b2-4e50-99ba-76e58d8b6b44",
   "metadata": {},
   "outputs": [
    {
     "data": {
      "text/html": [
       "<div>\n",
       "<style scoped>\n",
       "    .dataframe tbody tr th:only-of-type {\n",
       "        vertical-align: middle;\n",
       "    }\n",
       "\n",
       "    .dataframe tbody tr th {\n",
       "        vertical-align: top;\n",
       "    }\n",
       "\n",
       "    .dataframe thead th {\n",
       "        text-align: right;\n",
       "    }\n",
       "</style>\n",
       "<table border=\"1\" class=\"dataframe\">\n",
       "  <thead>\n",
       "    <tr style=\"text-align: right;\">\n",
       "      <th></th>\n",
       "      <th>1714355952657977300_16001_1679703488.328.png</th>\n",
       "      <th>1714356269034246100_10801_1679703569.923.png</th>\n",
       "      <th>1714357401798414300_10801_1679703845.348.png</th>\n",
       "      <th>1714357520291696600_12101_1679703870.264.png</th>\n",
       "      <th>1714357689242460200_23005_1679703891.497.png</th>\n",
       "      <th>1714358212238626800_10803_1679704007.01.png</th>\n",
       "      <th>1714358610416373800_10801_1679704137.812.png</th>\n",
       "      <th>1714358794839920600_23005_1679704169.145.png</th>\n",
       "      <th>1714358801567682600_10801_1679704179.114.png</th>\n",
       "      <th>1714358918416814000_12101_1679704202.466.png</th>\n",
       "      <th>...</th>\n",
       "      <th>1715105380574445600_10822_1679882179.513.png</th>\n",
       "      <th>1715106440919740400_24011_1679882437.075.png</th>\n",
       "      <th>1715107071214579700_10803_1679882576.061.png</th>\n",
       "      <th>1715107093930872800_10803_1679882590.158.png</th>\n",
       "      <th>1715109820773765000_10802_1679883229.754.png</th>\n",
       "      <th>1715110031000694800_10803_1679883281.203.png</th>\n",
       "      <th>1715111400826781700_10803_1679883593.581.png</th>\n",
       "      <th>1715114281671946200_10822_1679884301.918.png</th>\n",
       "      <th>1715116363258884000_10822_1679884794.066.png</th>\n",
       "      <th>max</th>\n",
       "    </tr>\n",
       "  </thead>\n",
       "  <tbody>\n",
       "    <tr>\n",
       "      <th>1714355952657977300_ID_0-4.png</th>\n",
       "      <td>0.863235</td>\n",
       "      <td>0.290689</td>\n",
       "      <td>0.270108</td>\n",
       "      <td>0.200694</td>\n",
       "      <td>0.231299</td>\n",
       "      <td>0.509019</td>\n",
       "      <td>0.321986</td>\n",
       "      <td>0.377792</td>\n",
       "      <td>0.261638</td>\n",
       "      <td>0.325761</td>\n",
       "      <td>...</td>\n",
       "      <td>0.212210</td>\n",
       "      <td>0.164542</td>\n",
       "      <td>0.408088</td>\n",
       "      <td>0.444396</td>\n",
       "      <td>0.382760</td>\n",
       "      <td>0.271967</td>\n",
       "      <td>0.377349</td>\n",
       "      <td>0.317538</td>\n",
       "      <td>0.177663</td>\n",
       "      <td>1714355952657977300_16001_1679703488.328.png</td>\n",
       "    </tr>\n",
       "    <tr>\n",
       "      <th>1714356269034246100_ID_0-1.png</th>\n",
       "      <td>0.386154</td>\n",
       "      <td>0.432476</td>\n",
       "      <td>0.406210</td>\n",
       "      <td>0.426972</td>\n",
       "      <td>0.293492</td>\n",
       "      <td>0.421415</td>\n",
       "      <td>0.356443</td>\n",
       "      <td>0.361301</td>\n",
       "      <td>0.332526</td>\n",
       "      <td>0.332523</td>\n",
       "      <td>...</td>\n",
       "      <td>0.346148</td>\n",
       "      <td>0.208014</td>\n",
       "      <td>0.414277</td>\n",
       "      <td>0.370783</td>\n",
       "      <td>0.326335</td>\n",
       "      <td>0.407620</td>\n",
       "      <td>0.394826</td>\n",
       "      <td>0.363656</td>\n",
       "      <td>0.274016</td>\n",
       "      <td>1715059653789991000_10805_1679871271.036.png</td>\n",
       "    </tr>\n",
       "    <tr>\n",
       "      <th>1714357401798414300_ID_0-5.png</th>\n",
       "      <td>0.278915</td>\n",
       "      <td>0.651589</td>\n",
       "      <td>0.767603</td>\n",
       "      <td>0.453510</td>\n",
       "      <td>0.568061</td>\n",
       "      <td>0.506802</td>\n",
       "      <td>0.620626</td>\n",
       "      <td>0.508122</td>\n",
       "      <td>0.635678</td>\n",
       "      <td>0.377384</td>\n",
       "      <td>...</td>\n",
       "      <td>0.652619</td>\n",
       "      <td>0.191091</td>\n",
       "      <td>0.444601</td>\n",
       "      <td>0.532003</td>\n",
       "      <td>0.344746</td>\n",
       "      <td>0.780464</td>\n",
       "      <td>0.392942</td>\n",
       "      <td>0.348681</td>\n",
       "      <td>0.484468</td>\n",
       "      <td>1715070872315871200_10803_1679873924.078.png</td>\n",
       "    </tr>\n",
       "  </tbody>\n",
       "</table>\n",
       "<p>3 rows × 501 columns</p>\n",
       "</div>"
      ],
      "text/plain": [
       "                                1714355952657977300_16001_1679703488.328.png  \\\n",
       "1714355952657977300_ID_0-4.png                                      0.863235   \n",
       "1714356269034246100_ID_0-1.png                                      0.386154   \n",
       "1714357401798414300_ID_0-5.png                                      0.278915   \n",
       "\n",
       "                                1714356269034246100_10801_1679703569.923.png  \\\n",
       "1714355952657977300_ID_0-4.png                                      0.290689   \n",
       "1714356269034246100_ID_0-1.png                                      0.432476   \n",
       "1714357401798414300_ID_0-5.png                                      0.651589   \n",
       "\n",
       "                                1714357401798414300_10801_1679703845.348.png  \\\n",
       "1714355952657977300_ID_0-4.png                                      0.270108   \n",
       "1714356269034246100_ID_0-1.png                                      0.406210   \n",
       "1714357401798414300_ID_0-5.png                                      0.767603   \n",
       "\n",
       "                                1714357520291696600_12101_1679703870.264.png  \\\n",
       "1714355952657977300_ID_0-4.png                                      0.200694   \n",
       "1714356269034246100_ID_0-1.png                                      0.426972   \n",
       "1714357401798414300_ID_0-5.png                                      0.453510   \n",
       "\n",
       "                                1714357689242460200_23005_1679703891.497.png  \\\n",
       "1714355952657977300_ID_0-4.png                                      0.231299   \n",
       "1714356269034246100_ID_0-1.png                                      0.293492   \n",
       "1714357401798414300_ID_0-5.png                                      0.568061   \n",
       "\n",
       "                                1714358212238626800_10803_1679704007.01.png  \\\n",
       "1714355952657977300_ID_0-4.png                                     0.509019   \n",
       "1714356269034246100_ID_0-1.png                                     0.421415   \n",
       "1714357401798414300_ID_0-5.png                                     0.506802   \n",
       "\n",
       "                                1714358610416373800_10801_1679704137.812.png  \\\n",
       "1714355952657977300_ID_0-4.png                                      0.321986   \n",
       "1714356269034246100_ID_0-1.png                                      0.356443   \n",
       "1714357401798414300_ID_0-5.png                                      0.620626   \n",
       "\n",
       "                                1714358794839920600_23005_1679704169.145.png  \\\n",
       "1714355952657977300_ID_0-4.png                                      0.377792   \n",
       "1714356269034246100_ID_0-1.png                                      0.361301   \n",
       "1714357401798414300_ID_0-5.png                                      0.508122   \n",
       "\n",
       "                                1714358801567682600_10801_1679704179.114.png  \\\n",
       "1714355952657977300_ID_0-4.png                                      0.261638   \n",
       "1714356269034246100_ID_0-1.png                                      0.332526   \n",
       "1714357401798414300_ID_0-5.png                                      0.635678   \n",
       "\n",
       "                                1714358918416814000_12101_1679704202.466.png  \\\n",
       "1714355952657977300_ID_0-4.png                                      0.325761   \n",
       "1714356269034246100_ID_0-1.png                                      0.332523   \n",
       "1714357401798414300_ID_0-5.png                                      0.377384   \n",
       "\n",
       "                                ...  \\\n",
       "1714355952657977300_ID_0-4.png  ...   \n",
       "1714356269034246100_ID_0-1.png  ...   \n",
       "1714357401798414300_ID_0-5.png  ...   \n",
       "\n",
       "                                1715105380574445600_10822_1679882179.513.png  \\\n",
       "1714355952657977300_ID_0-4.png                                      0.212210   \n",
       "1714356269034246100_ID_0-1.png                                      0.346148   \n",
       "1714357401798414300_ID_0-5.png                                      0.652619   \n",
       "\n",
       "                                1715106440919740400_24011_1679882437.075.png  \\\n",
       "1714355952657977300_ID_0-4.png                                      0.164542   \n",
       "1714356269034246100_ID_0-1.png                                      0.208014   \n",
       "1714357401798414300_ID_0-5.png                                      0.191091   \n",
       "\n",
       "                                1715107071214579700_10803_1679882576.061.png  \\\n",
       "1714355952657977300_ID_0-4.png                                      0.408088   \n",
       "1714356269034246100_ID_0-1.png                                      0.414277   \n",
       "1714357401798414300_ID_0-5.png                                      0.444601   \n",
       "\n",
       "                                1715107093930872800_10803_1679882590.158.png  \\\n",
       "1714355952657977300_ID_0-4.png                                      0.444396   \n",
       "1714356269034246100_ID_0-1.png                                      0.370783   \n",
       "1714357401798414300_ID_0-5.png                                      0.532003   \n",
       "\n",
       "                                1715109820773765000_10802_1679883229.754.png  \\\n",
       "1714355952657977300_ID_0-4.png                                      0.382760   \n",
       "1714356269034246100_ID_0-1.png                                      0.326335   \n",
       "1714357401798414300_ID_0-5.png                                      0.344746   \n",
       "\n",
       "                                1715110031000694800_10803_1679883281.203.png  \\\n",
       "1714355952657977300_ID_0-4.png                                      0.271967   \n",
       "1714356269034246100_ID_0-1.png                                      0.407620   \n",
       "1714357401798414300_ID_0-5.png                                      0.780464   \n",
       "\n",
       "                                1715111400826781700_10803_1679883593.581.png  \\\n",
       "1714355952657977300_ID_0-4.png                                      0.377349   \n",
       "1714356269034246100_ID_0-1.png                                      0.394826   \n",
       "1714357401798414300_ID_0-5.png                                      0.392942   \n",
       "\n",
       "                                1715114281671946200_10822_1679884301.918.png  \\\n",
       "1714355952657977300_ID_0-4.png                                      0.317538   \n",
       "1714356269034246100_ID_0-1.png                                      0.363656   \n",
       "1714357401798414300_ID_0-5.png                                      0.348681   \n",
       "\n",
       "                                1715116363258884000_10822_1679884794.066.png  \\\n",
       "1714355952657977300_ID_0-4.png                                      0.177663   \n",
       "1714356269034246100_ID_0-1.png                                      0.274016   \n",
       "1714357401798414300_ID_0-5.png                                      0.484468   \n",
       "\n",
       "                                                                         max  \n",
       "1714355952657977300_ID_0-4.png  1714355952657977300_16001_1679703488.328.png  \n",
       "1714356269034246100_ID_0-1.png  1715059653789991000_10805_1679871271.036.png  \n",
       "1714357401798414300_ID_0-5.png  1715070872315871200_10803_1679873924.078.png  \n",
       "\n",
       "[3 rows x 501 columns]"
      ]
     },
     "execution_count": 35,
     "metadata": {},
     "output_type": "execute_result"
    }
   ],
   "source": [
    "results_vgg_df.head(3)"
   ]
  },
  {
   "cell_type": "code",
   "execution_count": 36,
   "id": "1e1ade61-4b34-4f3b-b718-9e9178de2632",
   "metadata": {
    "scrolled": true
   },
   "outputs": [],
   "source": [
    "c_tps_vgg, c_fps_vgg, res_tps_vgg, res_fps_vgg = get_number_tps(results_vgg_df)"
   ]
  },
  {
   "cell_type": "code",
   "execution_count": 37,
   "id": "16ca7412-9c09-4c0d-ab94-0afae3c083ff",
   "metadata": {},
   "outputs": [
    {
     "data": {
      "text/plain": [
       "206"
      ]
     },
     "execution_count": 37,
     "metadata": {},
     "output_type": "execute_result"
    }
   ],
   "source": [
    "c_tps_vgg"
   ]
  },
  {
   "cell_type": "code",
   "execution_count": 42,
   "id": "2ba35bcd-4153-426c-8d12-76f9d51b0cbe",
   "metadata": {},
   "outputs": [],
   "source": [
    "percentiles_results_vgg = get_percentile_tp(results_vgg_df)"
   ]
  },
  {
   "cell_type": "code",
   "execution_count": 44,
   "id": "ddfba9ea-d5fd-438a-b0e8-6e798dac7209",
   "metadata": {},
   "outputs": [
    {
     "data": {
      "text/plain": [
       "Text(0.5, 1.0, 'Percentage true positive for VGG')"
      ]
     },
     "execution_count": 44,
     "metadata": {},
     "output_type": "execute_result"
    },
    {
     "data": {
      "image/png": "[encoded data removed]",
      "text/plain": [
       "<Figure size 640x480 with 1 Axes>"
      ]
     },
     "metadata": {},
     "output_type": "display_data"
    }
   ],
   "source": [
    "percentiles_results_vgg[\"index_tp\"].hist()\n",
    "plt.title(\"Percentage true positive for VGG\")"
   ]
  },
  {
   "cell_type": "code",
   "execution_count": 45,
   "id": "e46e7f97-2ead-4568-bfbb-ead98db53e3c",
   "metadata": {},
   "outputs": [],
   "source": [
    "percentiles_results_vit = get_percentile_tp(results_vit)"
   ]
  },
  {
   "cell_type": "code",
   "execution_count": 46,
   "id": "1657306f-d3bf-478a-888c-e9b6a3c40594",
   "metadata": {},
   "outputs": [
    {
     "data": {
      "text/plain": [
       "Text(0.5, 1.0, 'Percentage true positive for ViT')"
      ]
     },
     "execution_count": 46,
     "metadata": {},
     "output_type": "execute_result"
    },
    {
     "data": {
      "image/png": "[encoded data removed]",
      "text/plain": [
       "<Figure size 640x480 with 1 Axes>"
      ]
     },
     "metadata": {},
     "output_type": "display_data"
    }
   ],
   "source": [
    "percentiles_results_vit[\"index_tp\"].hist()\n",
    "plt.title(\"Percentage true positive for ViT\")"
   ]
  },
  {
   "cell_type": "code",
   "execution_count": 47,
   "id": "28de7107-48ec-4d1b-addc-87d6d4b94a7c",
   "metadata": {},
   "outputs": [],
   "source": [
    "percentiles_results_beit = get_percentile_tp(results_beit)"
   ]
  },
  {
   "cell_type": "code",
   "execution_count": 48,
   "id": "11f89cbe-f1e7-4271-9f3a-8f794ac77bb6",
   "metadata": {},
   "outputs": [
    {
     "data": {
      "text/plain": [
       "Text(0.5, 1.0, 'Percentage true positive for BEiT')"
      ]
     },
     "execution_count": 48,
     "metadata": {},
     "output_type": "execute_result"
    },
    {
     "data": {
      "image/png": "[encoded data removed]",
      "text/plain": [
       "<Figure size 640x480 with 1 Axes>"
      ]
     },
     "metadata": {},
     "output_type": "display_data"
    }
   ],
   "source": [
    "percentiles_results_beit[\"index_tp\"].hist()\n",
    "plt.title(\"Percentage true positive for BEiT\")"
   ]
  },
  {
   "cell_type": "code",
   "execution_count": 50,
   "id": "3308d2b4-f38c-416e-a40b-a51fafe2e460",
   "metadata": {},
   "outputs": [
    {
     "data": {
      "text/plain": [
       "0.186088361182739"
      ]
     },
     "execution_count": 50,
     "metadata": {},
     "output_type": "execute_result"
    }
   ],
   "source": [
    "percentiles_results_beit[\"score_tp\"].min()"
   ]
  },
  {
   "cell_type": "code",
   "execution_count": 51,
   "id": "f90f63bb-5a17-47b9-a212-61998056c444",
   "metadata": {},
   "outputs": [
    {
     "data": {
      "text/plain": [
       "0.0783244855854052"
      ]
     },
     "execution_count": 51,
     "metadata": {},
     "output_type": "execute_result"
    }
   ],
   "source": [
    "percentiles_results_vit[\"score_tp\"].min()"
   ]
  },
  {
   "cell_type": "code",
   "execution_count": 52,
   "id": "d71dfc1b-9ec3-44db-95ee-dfa8e74283e1",
   "metadata": {},
   "outputs": [
    {
     "data": {
      "text/plain": [
       "0.30710822"
      ]
     },
     "execution_count": 52,
     "metadata": {},
     "output_type": "execute_result"
    }
   ],
   "source": [
    "percentiles_results_vgg[\"score_tp\"].min()"
   ]
  },
  {
   "cell_type": "code",
   "execution_count": 53,
   "id": "04111f0d-6114-4f71-9299-61b2f6bed19d",
   "metadata": {},
   "outputs": [
    {
     "data": {
      "text/plain": [
       "<matplotlib.legend.Legend at 0x7fcc1dc5e670>"
      ]
     },
     "execution_count": 53,
     "metadata": {},
     "output_type": "execute_result"
    },
    {
     "data": {
      "image/png": "[encoded data removed]",
      "text/plain": [
       "<Figure size 640x480 with 1 Axes>"
      ]
     },
     "metadata": {},
     "output_type": "display_data"
    }
   ],
   "source": [
    "percentiles_results_beit[\"score_tp\"].hist(alpha=0.7, label=\"score true positive\")\n",
    "percentiles_results_beit[\"max_score_fp\"].hist(alpha=0.5, label=\"maximum score false positive\")\n",
    "plt.legend()"
   ]
  },
  {
   "cell_type": "code",
   "execution_count": 54,
   "id": "13c585e4-26b5-470f-aac5-3830ceac8cee",
   "metadata": {},
   "outputs": [
    {
     "data": {
      "text/plain": [
       "<matplotlib.legend.Legend at 0x7fcc08d34130>"
      ]
     },
     "execution_count": 54,
     "metadata": {},
     "output_type": "execute_result"
    },
    {
     "data": {
      "image/png": "[encoded data removed]",
      "text/plain": [
       "<Figure size 640x480 with 1 Axes>"
      ]
     },
     "metadata": {},
     "output_type": "display_data"
    }
   ],
   "source": [
    "percentiles_results_vit[\"score_tp\"].hist(label=\"score true positive\")\n",
    "percentiles_results_vit[\"max_score_fp\"].hist(alpha=0.5, label=\"maximum score false positive\")\n",
    "plt.legend()"
   ]
  },
  {
   "cell_type": "code",
   "execution_count": 55,
   "id": "d3933f69-1420-4bbf-83f1-45bddcec2088",
   "metadata": {},
   "outputs": [
    {
     "data": {
      "text/plain": [
       "<matplotlib.legend.Legend at 0x7fcc1de3e0d0>"
      ]
     },
     "execution_count": 55,
     "metadata": {},
     "output_type": "execute_result"
    },
    {
     "data": {
      "image/png": "[encoded data removed]",
      "text/plain": [
       "<Figure size 640x480 with 1 Axes>"
      ]
     },
     "metadata": {},
     "output_type": "display_data"
    }
   ],
   "source": [
    "percentiles_results_vgg[\"score_tp\"].hist(label=\"score true positive\")\n",
    "percentiles_results_vgg[\"max_score_fp\"].hist(alpha=0.5, label=\"maximum score false positive\")\n",
    "plt.legend()"
   ]
  },
  {
   "cell_type": "markdown",
   "id": "fb4d77a1-bd20-4c73-abf2-2997a8b71a57",
   "metadata": {},
   "source": [
    "# Analysis on about 2200 pairs of TPs"
   ]
  },
  {
   "cell_type": "code",
   "execution_count": 60,
   "id": "0a67bf01-41a9-4cca-a8fa-0ff3980633e3",
   "metadata": {},
   "outputs": [],
   "source": [
    "results_vit_2200 = pd.read_csv(\"dataframes/results_2200_tps_vit_model.csv\", index_col=0).T"
   ]
  },
  {
   "cell_type": "code",
   "execution_count": 61,
   "id": "170c6e2a-8ba5-4aae-8b6c-d0a9cb330cc3",
   "metadata": {},
   "outputs": [],
   "source": [
    "results_beit_2200 = pd.read_csv(\"dataframes/results_2200_tps_beit_model.csv\", index_col=0).T"
   ]
  },
  {
   "cell_type": "code",
   "execution_count": 62,
   "id": "248e578d-6f5f-4999-9c05-1a1348489ad2",
   "metadata": {},
   "outputs": [],
   "source": [
    "results_clip_2200 = pd.read_csv(\"dataframes/results_tps_2200_clip_similarity.csv\", index_col=0).T"
   ]
  },
  {
   "cell_type": "code",
   "execution_count": 63,
   "id": "2fe3408e-06c5-4c83-a6d5-459560585d41",
   "metadata": {},
   "outputs": [],
   "source": [
    "results_vit_2200['max'] = results_vit_2200.idxmax(axis=1)\n",
    "results_beit_2200['max'] = results_beit_2200.idxmax(axis=1)\n",
    "results_clip_2200['max'] = results_clip_2200.idxmax(axis=1)"
   ]
  },
  {
   "cell_type": "code",
   "execution_count": 66,
   "id": "f7cdb34f-b8d0-4422-830b-58f6b4b68cbd",
   "metadata": {},
   "outputs": [],
   "source": [
    "#VGG results on 2200 pairs\n",
    "with open(\"dataframes/similarity_captures_tps_2200.txt\",\"r\") as f:\n",
    "    scores = f.readlines()\n",
    "f.close()\n",
    "with open(\"dataframes/crop_names_captures_tps_2200.txt\", \"r\") as f :\n",
    "    caps_names = f.readlines()\n",
    "f.close()\n",
    "with open(\"dataframes/crop_names_streams_tps_2200.txt\", \"r\") as f :\n",
    "    streams_names = f.readlines()\n",
    "f.close()\n",
    "\n",
    "\n",
    "caps_filenames = [s.split(\"\\n\")[0].split(\"/\")[-1] for s in caps_names]\n",
    "streams_filenames = [s.split(\"\\n\")[0].split(\"/\")[-1] for s in streams_names]\n",
    "\n",
    "results_vgg_2200 = {}\n",
    "for cap_filename, row in zip(caps_filenames, scores):\n",
    "    results_vgg_2200[cap_filename] = {}\n",
    "    res_cap = [float(i) for i in row.split(\" \")]\n",
    "    for stream_filename, res_stream in zip(streams_filenames, res_cap):\n",
    "        results_vgg_2200[cap_filename][stream_filename] = res_stream\n",
    "\n",
    "\n",
    "results_vgg_df_2200 = pd.DataFrame(results_vgg_2200).T\n",
    "results_vgg_df_2200['max'] = results_vgg_df_2200.idxmax(axis=1)"
   ]
  },
  {
   "cell_type": "code",
   "execution_count": 67,
   "id": "e313ed83-1b3e-49f1-a254-92e72e224b2a",
   "metadata": {},
   "outputs": [],
   "source": [
    "c_tps_vit, c_fps_vit, res_tps_vit, res_fps_vit = get_number_tps(results_vit_2200)\n",
    "c_tps_beit, c_fps_beit, res_tps_beit, res_fps_beit = get_number_tps(results_beit_2200)\n",
    "c_tps_clip, c_fps_clip, res_tps_clip, res_fps_clip = get_number_tps(results_clip_2200)\n",
    "c_tps_vgg, c_fps_vgg, res_tps_vgg, res_fps_vgg = get_number_tps(results_vgg_df_2200)\n"
   ]
  },
  {
   "cell_type": "markdown",
   "id": "3a9467c6-c2b4-4d60-a983-ba5dc1798b47",
   "metadata": {},
   "source": [
    "print(c_tps_vit/len(results_vit_2200))\n",
    "print(c_tps_beit/len(results_beit_2200))\n",
    "print(c_tps_clip/len(results_clip_2200))\n",
    "print(c_tps_vgg/len(results_vgg_df_2200))"
   ]
  },
  {
   "cell_type": "code",
   "execution_count": 69,
   "id": "94d1d826-65dd-456d-86d6-0d58af8ba8ab",
   "metadata": {},
   "outputs": [],
   "source": [
    "baseline_tps = 0.5714285714285714\n",
    "baseline_fps = 0.42857142857142855"
   ]
  },
  {
   "cell_type": "markdown",
   "id": "a933f880-6805-4b1b-bcad-acda103d5f2b",
   "metadata": {},
   "source": [
    "# Could this help in filtering?"
   ]
  },
  {
   "cell_type": "markdown",
   "id": "61e018df-ea8f-4849-8316-dadda0fe4dec",
   "metadata": {},
   "source": [
    "# here we can play with thresholds"
   ]
  },
  {
   "cell_type": "markdown",
   "id": "8227618f-28d3-4ed8-9293-064389996e85",
   "metadata": {},
   "source": [
    "# VIT"
   ]
  },
  {
   "cell_type": "code",
   "execution_count": null,
   "id": "a4aba0bc-7bdd-404e-8b7b-530cfe660c4d",
   "metadata": {},
   "outputs": [],
   "source": [
    "results_vit_2200_filtered =results_vit_2200\n",
    "results_vit_2200_filtered = results_vit_2200_filtered.drop(columns=['max'])"
   ]
  },
  {
   "cell_type": "code",
   "execution_count": 88,
   "id": "28cab446-83ff-4bcb-92a2-7ed38080dfa4",
   "metadata": {},
   "outputs": [],
   "source": [
    "for col in results_vit_2200_filtered.columns:\n",
    "    results_vit_2200_filtered.loc[results_vit_2200_filtered[col]> 0.95, col] = True\n",
    "    results_vit_2200_filtered.loc[results_vit_2200_filtered[col] != True, col] = False\n"
   ]
  },
  {
   "cell_type": "code",
   "execution_count": 89,
   "id": "100d8f18-d154-4b4f-ba6d-42836b825234",
   "metadata": {
    "scrolled": true
   },
   "outputs": [
    {
     "name": "stderr",
     "output_type": "stream",
     "text": [
      "/var/folders/xw/0gkws3qn6qv_gtp1mz6xgvzw0000gn/T/ipykernel_28309/1945064018.py:1: PerformanceWarning: DataFrame is highly fragmented.  This is usually the result of calling `frame.insert` many times, which has poor performance.  Consider joining all columns at once using pd.concat(axis=1) instead. To get a de-fragmented frame, use `newframe = frame.copy()`\n",
      "  results_vit_2200_filtered[\"cap_id\"] = results_vit_2200_filtered.index\n"
     ]
    }
   ],
   "source": [
    "results_vit_2200_filtered[\"cap_id\"] = results_vit_2200_filtered.index"
   ]
  },
  {
   "cell_type": "code",
   "execution_count": 90,
   "id": "5a807e7e-b5c2-4bc9-8d50-7d53ac97d395",
   "metadata": {},
   "outputs": [],
   "source": [
    "out_d_vit = results_vit_2200_filtered.melt('cap_id').query('value').groupby('cap_id')['variable'].agg(list).to_dict()\n"
   ]
  },
  {
   "cell_type": "code",
   "execution_count": 869,
   "id": "b180889a-4acd-4364-beda-95a4adff9be2",
   "metadata": {},
   "outputs": [],
   "source": [
    "tps_vit, fps_vit = get_tps_fps_percentage(out_d_vit)"
   ]
  },
  {
   "cell_type": "code",
   "execution_count": null,
   "id": "1fbb5b26-67ac-4d23-85cd-c301eba1a246",
   "metadata": {},
   "outputs": [],
   "source": [
    "total_vit = results_vit_2200_filtered.shape[0]*results_vit_2200_filtered.shape[0]\n",
    "\n",
    "tps_vit/total_vit"
   ]
  },
  {
   "cell_type": "code",
   "execution_count": 91,
   "id": "4e176097-d405-43a2-abc1-22d944cdcb8d",
   "metadata": {},
   "outputs": [
    {
     "ename": "NameError",
     "evalue": "name 'fps_vit' is not defined",
     "output_type": "error",
     "traceback": [
      "\u001b[0;31m---------------------------------------------------------------------------\u001b[0m",
      "\u001b[0;31mNameError\u001b[0m                                 Traceback (most recent call last)",
      "Cell \u001b[0;32mIn[91], line 1\u001b[0m\n\u001b[0;32m----> 1\u001b[0m \u001b[43mfps_vit\u001b[49m\n",
      "\u001b[0;31mNameError\u001b[0m: name 'fps_vit' is not defined"
     ]
    }
   ],
   "source": [
    "fps_vit"
   ]
  },
  {
   "cell_type": "markdown",
   "id": "084bcdf6-a598-4b97-a0de-0e9b4430acf1",
   "metadata": {},
   "source": [
    "# BEiT"
   ]
  },
  {
   "cell_type": "code",
   "execution_count": null,
   "id": "d9e625ab-cb99-4e61-8a97-ba1401be1641",
   "metadata": {},
   "outputs": [],
   "source": [
    "results_beit_2200_filtered = results_beit_2200\n",
    "results_beit_2200_filtered = results_beit_2200_filtered.drop(columns=['max'])"
   ]
  },
  {
   "cell_type": "code",
   "execution_count": 82,
   "id": "6b66689f-856e-46c8-a841-ce3e78d506d4",
   "metadata": {},
   "outputs": [],
   "source": [
    "for col in results_beit_2200_filtered.columns:\n",
    "    results_beit_2200_filtered.loc[results_beit_2200_filtered[col]> 0.87, col] = True\n",
    "    results_beit_2200_filtered.loc[results_beit_2200_filtered[col] != True, col] = False\n"
   ]
  },
  {
   "cell_type": "code",
   "execution_count": 83,
   "id": "e0b8e2d2-0a8f-4ace-ae06-c0a8c36ed862",
   "metadata": {},
   "outputs": [
    {
     "name": "stderr",
     "output_type": "stream",
     "text": [
      "/var/folders/xw/0gkws3qn6qv_gtp1mz6xgvzw0000gn/T/ipykernel_28309/2214421695.py:1: PerformanceWarning: DataFrame is highly fragmented.  This is usually the result of calling `frame.insert` many times, which has poor performance.  Consider joining all columns at once using pd.concat(axis=1) instead. To get a de-fragmented frame, use `newframe = frame.copy()`\n",
      "  results_beit_2200_filtered[\"cap_id\"] = results_beit_2200_filtered.index\n"
     ]
    }
   ],
   "source": [
    "results_beit_2200_filtered[\"cap_id\"] = results_beit_2200_filtered.index"
   ]
  },
  {
   "cell_type": "code",
   "execution_count": 108,
   "id": "bde53c8a-eed2-44f6-9689-42b2428c924d",
   "metadata": {},
   "outputs": [],
   "source": [
    "out_d_beit = results_beit_2200_filtered.melt('cap_id').query('value').groupby('cap_id')['variable'].agg(list).to_dict()\n"
   ]
  },
  {
   "cell_type": "code",
   "execution_count": null,
   "id": "a4a66cc3-2596-43b9-b2fd-e5e4ddb8139b",
   "metadata": {},
   "outputs": [],
   "source": [
    "tps_beit, fps_beit = get_tps_fps_percentage(out_d_beit)"
   ]
  },
  {
   "cell_type": "code",
   "execution_count": null,
   "id": "6e1d1b0d-365a-4512-931e-0e1639153142",
   "metadata": {},
   "outputs": [],
   "source": [
    "tps_beit"
   ]
  },
  {
   "cell_type": "code",
   "execution_count": null,
   "id": "3d900fb5-8a32-4f56-805a-7b2a5af3fa73",
   "metadata": {},
   "outputs": [],
   "source": [
    "fps_beit"
   ]
  },
  {
   "cell_type": "code",
   "execution_count": null,
   "id": "ae07713b-60e6-4594-b3d0-4c15ab9f91f7",
   "metadata": {},
   "outputs": [],
   "source": [
    "total_beit = results_beit_2200_filtered.shape[0]*results_beit_2200_filtered.shape[0]\n",
    "\n",
    "fps_beit/total_beit"
   ]
  },
  {
   "cell_type": "markdown",
   "id": "d8acd887-70d5-4550-9bcc-fdcc6e28950f",
   "metadata": {},
   "source": [
    "# CLIP"
   ]
  },
  {
   "cell_type": "code",
   "execution_count": null,
   "id": "3114652e-2f12-4ec4-8cc4-0c088d438fe9",
   "metadata": {},
   "outputs": [],
   "source": [
    "results_clip_2200_filtered = results_clip_2200\n",
    "results_clip_2200_filtered = results_clip_2200_filtered.drop(columns=['max'])"
   ]
  },
  {
   "cell_type": "code",
   "execution_count": 84,
   "id": "ac3ab583-b973-4051-bfc2-337919268ca7",
   "metadata": {},
   "outputs": [],
   "source": [
    "for col in results_clip_2200_filtered.columns:\n",
    "    results_clip_2200_filtered.loc[results_clip_2200_filtered[col]> 0.94, col] = True\n",
    "    results_clip_2200_filtered.loc[results_clip_2200_filtered[col] != True, col] = False\n"
   ]
  },
  {
   "cell_type": "code",
   "execution_count": 85,
   "id": "9c94ba32-31e3-419a-9627-90b500b9b627",
   "metadata": {},
   "outputs": [
    {
     "name": "stderr",
     "output_type": "stream",
     "text": [
      "/var/folders/xw/0gkws3qn6qv_gtp1mz6xgvzw0000gn/T/ipykernel_28309/1988590872.py:1: PerformanceWarning: DataFrame is highly fragmented.  This is usually the result of calling `frame.insert` many times, which has poor performance.  Consider joining all columns at once using pd.concat(axis=1) instead. To get a de-fragmented frame, use `newframe = frame.copy()`\n",
      "  results_clip_2200_filtered[\"cap_id\"] = results_clip_2200_filtered.index\n"
     ]
    }
   ],
   "source": [
    "results_clip_2200_filtered[\"cap_id\"] = results_clip_2200_filtered.index"
   ]
  },
  {
   "cell_type": "code",
   "execution_count": 62,
   "id": "2cc6187f-36fb-4c99-98d0-bc61f9792e1c",
   "metadata": {},
   "outputs": [],
   "source": [
    "out_d_clip = results_clip_2200_filtered.melt('cap_id').query('value').groupby('cap_id')['variable'].agg(list).to_dict()"
   ]
  },
  {
   "cell_type": "code",
   "execution_count": 63,
   "id": "7bf23ee7-e1d0-49ee-b1cb-bd4fc3d7b92d",
   "metadata": {},
   "outputs": [],
   "source": [
    "tps_clip, fps_clip = get_tps_fps_percentage(out_d_clip)"
   ]
  },
  {
   "cell_type": "code",
   "execution_count": 65,
   "id": "dc5edb28-0acd-446c-bbf5-406c523aae8c",
   "metadata": {
    "scrolled": true
   },
   "outputs": [
    {
     "data": {
      "text/plain": [
       "1"
      ]
     },
     "execution_count": 65,
     "metadata": {},
     "output_type": "execute_result"
    }
   ],
   "source": [
    "tps_clip"
   ]
  },
  {
   "cell_type": "code",
   "execution_count": 884,
   "id": "dc18ae9a-a9e1-40b8-95ff-3badc687ab4f",
   "metadata": {},
   "outputs": [
    {
     "data": {
      "text/plain": [
       "4.362181568081037e-05"
      ]
     },
     "execution_count": 884,
     "metadata": {},
     "output_type": "execute_result"
    }
   ],
   "source": [
    "total_clip = results_clip_2200_filtered.shape[0]*results_clip_2200_filtered.shape[0]\n",
    "\n",
    "fps_clip/total_clip"
   ]
  },
  {
   "cell_type": "markdown",
   "id": "e6f1dc91-9113-4e3b-89c4-aa5e17cf0caf",
   "metadata": {},
   "source": [
    "# VGG"
   ]
  },
  {
   "cell_type": "code",
   "execution_count": 135,
   "id": "cd8b4d93-2dd1-46d0-9228-b40b242faad3",
   "metadata": {},
   "outputs": [],
   "source": [
    "results_vgg_2200_filtered = results_vgg_df_2200\n",
    "results_vgg_2200_filtered = results_vgg_2200_filtered.drop(columns=['max'])"
   ]
  },
  {
   "cell_type": "code",
   "execution_count": 136,
   "id": "f59275c0-b81d-4c91-95d3-20e6c0145e15",
   "metadata": {},
   "outputs": [],
   "source": [
    "for col in results_vgg_2200_filtered.columns:\n",
    "    results_vgg_2200_filtered.loc[results_vgg_2200_filtered[col]< 0.29, col] = True\n",
    "    results_vgg_2200_filtered.loc[results_vgg_2200_filtered[col] != True, col] = False"
   ]
  },
  {
   "cell_type": "code",
   "execution_count": 137,
   "id": "402a7319-8f42-4408-a51f-80b5e3453302",
   "metadata": {},
   "outputs": [
    {
     "name": "stderr",
     "output_type": "stream",
     "text": [
      "/var/folders/xw/0gkws3qn6qv_gtp1mz6xgvzw0000gn/T/ipykernel_21796/2958985192.py:1: PerformanceWarning: DataFrame is highly fragmented.  This is usually the result of calling `frame.insert` many times, which has poor performance.  Consider joining all columns at once using pd.concat(axis=1) instead. To get a de-fragmented frame, use `newframe = frame.copy()`\n",
      "  results_vgg_2200_filtered[\"cap_id\"] = results_vgg_2200_filtered.index\n"
     ]
    }
   ],
   "source": [
    "results_vgg_2200_filtered[\"cap_id\"] = results_vgg_2200_filtered.index"
   ]
  },
  {
   "cell_type": "code",
   "execution_count": 138,
   "id": "6ea96979-17a6-43f5-a873-39bde1312018",
   "metadata": {},
   "outputs": [],
   "source": [
    "out_d_vgg = results_vgg_2200_filtered.melt('cap_id').query('value').groupby('cap_id')['variable'].agg(list).to_dict()\n"
   ]
  },
  {
   "cell_type": "code",
   "execution_count": 139,
   "id": "00ab7c0d-7471-4b0d-855a-2c865e611089",
   "metadata": {
    "scrolled": true
   },
   "outputs": [],
   "source": [
    "tps_vgg, fps_vgg = get_tps_fps_percentage(out_d_vgg)"
   ]
  },
  {
   "cell_type": "code",
   "execution_count": 141,
   "id": "68ee1c70-2725-4e3f-bb07-835433b7c61f",
   "metadata": {},
   "outputs": [
    {
     "data": {
      "text/plain": [
       "0.31443934914686095"
      ]
     },
     "execution_count": 141,
     "metadata": {},
     "output_type": "execute_result"
    }
   ],
   "source": [
    "total_vgg = results_vgg_2200_filtered.shape[0]*results_vgg_2200_filtered.shape[0]\n",
    "\n",
    "fps_vgg / total_vgg"
   ]
  },
  {
   "cell_type": "code",
   "execution_count": null,
   "id": "45e922ce-0d3c-4fc6-ad34-e530be0ab8d6",
   "metadata": {},
   "outputs": [],
   "source": [
    "# Some more analysis"
   ]
  },
  {
   "cell_type": "code",
   "execution_count": 53,
   "id": "6e0d3137-9b52-49f1-849d-fb2ea79831e4",
   "metadata": {},
   "outputs": [],
   "source": [
    "percentiles_results_vit_2200 = get_percentile_tp(results_vit_2200)\n",
    "percentiles_results_beit_2200 = get_percentile_tp(results_beit_2200)\n",
    "percentiles_results_vgg_2200 = get_percentile_tp(results_vgg_df_2200)"
   ]
  },
  {
   "cell_type": "code",
   "execution_count": 29,
   "id": "f8a0cc10-6170-4a99-ae68-7a9278f4b5ec",
   "metadata": {},
   "outputs": [
    {
     "data": {
      "text/plain": [
       "Text(0.5, 1.0, 'Percentage true positive for ViT on more than 2200 pairs')"
      ]
     },
     "execution_count": 29,
     "metadata": {},
     "output_type": "execute_result"
    },
    {
     "data": {
      "image/png": "[encoded data removed]",
      "text/plain": [
       "<Figure size 640x480 with 1 Axes>"
      ]
     },
     "metadata": {},
     "output_type": "display_data"
    }
   ],
   "source": [
    "percentiles_results_vit_2200[\"index_tp\"].hist()\n",
    "plt.title(\"Percentage true positive for ViT on more than 2200 pairs\")"
   ]
  },
  {
   "cell_type": "code",
   "execution_count": 30,
   "id": "9f26127c-c6bf-4f4c-ace0-4a349d7fa21d",
   "metadata": {},
   "outputs": [
    {
     "data": {
      "text/plain": [
       "Text(0.5, 1.0, 'Percentage true positive for BEiT on more than 2200 pairs')"
      ]
     },
     "execution_count": 30,
     "metadata": {},
     "output_type": "execute_result"
    },
    {
     "data": {
      "image/png": "[encoded data removed]",
      "text/plain": [
       "<Figure size 640x480 with 1 Axes>"
      ]
     },
     "metadata": {},
     "output_type": "display_data"
    }
   ],
   "source": [
    "percentiles_results_beit_2200[\"index_tp\"].hist()\n",
    "plt.title(\"Percentage true positive for BEiT on more than 2200 pairs\")"
   ]
  },
  {
   "cell_type": "code",
   "execution_count": 75,
   "id": "1ad49773-5813-4ebd-bdbc-fbece94b724e",
   "metadata": {},
   "outputs": [
    {
     "data": {
      "text/plain": [
       "0.9646174259177355"
      ]
     },
     "execution_count": 75,
     "metadata": {},
     "output_type": "execute_result"
    }
   ],
   "source": [
    "len(percentiles_results_beit_2200[percentiles_results_beit_2200[\"index_tp\"]<=0.2])/len(percentiles_results_beit_2200)"
   ]
  },
  {
   "cell_type": "code",
   "execution_count": 54,
   "id": "c7901c83-197b-4875-ad82-134a3eb9557b",
   "metadata": {},
   "outputs": [
    {
     "data": {
      "text/plain": [
       "Text(0.5, 1.0, 'Percentage true positive for VGG on more than 2200 pairs')"
      ]
     },
     "execution_count": 54,
     "metadata": {},
     "output_type": "execute_result"
    },
    {
     "data": {
      "image/png": "[encoded data removed]",
      "text/plain": [
       "<Figure size 640x480 with 1 Axes>"
      ]
     },
     "metadata": {},
     "output_type": "display_data"
    }
   ],
   "source": [
    "percentiles_results_vgg_2200[\"index_tp\"].hist()\n",
    "plt.title(\"Percentage true positive for VGG on more than 2200 pairs\")"
   ]
  },
  {
   "cell_type": "code",
   "execution_count": 76,
   "id": "3b61468e-e65b-481d-ae6a-9a1545bd6342",
   "metadata": {},
   "outputs": [
    {
     "data": {
      "text/plain": [
       "0.9062361786819991"
      ]
     },
     "execution_count": 76,
     "metadata": {},
     "output_type": "execute_result"
    }
   ],
   "source": [
    "len(percentiles_results_vgg_2200[percentiles_results_vgg_2200[\"index_tp\"]<=0.2])/len(percentiles_results_vgg_2200)"
   ]
  },
  {
   "cell_type": "code",
   "execution_count": 31,
   "id": "bd174531-1eca-4b15-a0c9-257388b232b1",
   "metadata": {},
   "outputs": [
    {
     "data": {
      "text/plain": [
       "<matplotlib.legend.Legend at 0x7fb7b41d0820>"
      ]
     },
     "execution_count": 31,
     "metadata": {},
     "output_type": "execute_result"
    },
    {
     "data": {
      "image/png": "[encoded data removed]",
      "text/plain": [
       "<Figure size 640x480 with 1 Axes>"
      ]
     },
     "metadata": {},
     "output_type": "display_data"
    }
   ],
   "source": [
    "percentiles_results_vit_2200[\"score_tp\"].hist(label=\"score true positive\")\n",
    "percentiles_results_vit_2200[\"max_score_fp\"].hist(alpha=0.5, label=\"maximum score false positive\")\n",
    "plt.legend()"
   ]
  },
  {
   "cell_type": "code",
   "execution_count": 33,
   "id": "28f8fc17-5226-4f5d-8342-f8d2334271da",
   "metadata": {},
   "outputs": [
    {
     "data": {
      "text/plain": [
       "<matplotlib.legend.Legend at 0x7fb7f4ca9730>"
      ]
     },
     "execution_count": 33,
     "metadata": {},
     "output_type": "execute_result"
    },
    {
     "data": {
      "image/png": "[encoded data removed]",
      "text/plain": [
       "<Figure size 640x480 with 1 Axes>"
      ]
     },
     "metadata": {},
     "output_type": "display_data"
    }
   ],
   "source": [
    "percentiles_results_beit_2200[\"score_tp\"].hist(label=\"score true positive\")\n",
    "percentiles_results_veit_2200[\"max_score_fp\"].hist(alpha=0.5, label=\"maximum score false positive\")\n",
    "plt.legend()"
   ]
  },
  {
   "cell_type": "code",
   "execution_count": 55,
   "id": "3757cd18-e374-468f-923c-ec3e4a04c209",
   "metadata": {},
   "outputs": [
    {
     "data": {
      "text/plain": [
       "<matplotlib.legend.Legend at 0x7fb7c33a4a30>"
      ]
     },
     "execution_count": 55,
     "metadata": {},
     "output_type": "execute_result"
    },
    {
     "data": {
      "image/png": "[encoded data removed]",
      "text/plain": [
       "<Figure size 640x480 with 1 Axes>"
      ]
     },
     "metadata": {},
     "output_type": "display_data"
    }
   ],
   "source": [
    "percentiles_results_vgg_2200[\"score_tp\"].hist(label=\"score true positive\")\n",
    "percentiles_results_vgg_2200[\"max_score_fp\"].hist(alpha=0.5, label=\"maximum score false positive\")\n",
    "plt.legend()"
   ]
  },
  {
   "cell_type": "code",
   "execution_count": 64,
   "id": "5929718c-81de-44bd-b752-e0eaeb83153f",
   "metadata": {},
   "outputs": [],
   "source": [
    "results_vit_2200_manh = pd.read_csv(\"/Users/carlalasry/Downloads/results_2200_tps_vit_model_manhattan_dist.csv\", index_col=0).T\n",
    "results_beit_2200_manh = pd.read_csv(\"/Users/carlalasry/Downloads/results_2200_tps_beit_model_manhattan_dist.csv\", index_col=0).T"
   ]
  },
  {
   "cell_type": "code",
   "execution_count": 65,
   "id": "485b0cfe-3f16-4801-a05a-16136e435158",
   "metadata": {},
   "outputs": [],
   "source": [
    "with open(\"/Users/carlalasry/Downloads/manhattan_similarity_captures_tps_2200.txt\",\"r\") as f:\n",
    "    scores = f.readlines()\n",
    "f.close()\n",
    "with open(\"/Users/carlalasry/Downloads/crop_names_captures_tps_2200.txt\", \"r\") as f :\n",
    "    caps_names = f.readlines()\n",
    "f.close()\n",
    "with open(\"/Users/carlalasry/Downloads/crop_names_streams_tps_2200.txt\", \"r\") as f :\n",
    "    streams_names = f.readlines()\n",
    "f.close()\n",
    "\n",
    "\n",
    "caps_filenames = [s.split(\"\\n\")[0].split(\"/\")[-1] for s in caps_names]\n",
    "streams_filenames = [s.split(\"\\n\")[0].split(\"/\")[-1] for s in streams_names]\n",
    "\n",
    "results_vgg_2200 = {}\n",
    "for cap_filename, row in zip(caps_filenames, scores):\n",
    "    results_vgg_2200[cap_filename] = {}\n",
    "    res_cap = [float(i) for i in row.split(\" \")]\n",
    "    for stream_filename, res_stream in zip(streams_filenames, res_cap):\n",
    "        results_vgg_2200[cap_filename][stream_filename] = res_stream\n",
    "\n",
    "\n",
    "results_vgg_df_2200_manh = pd.DataFrame(results_vgg_2200).T"
   ]
  },
  {
   "cell_type": "code",
   "execution_count": 66,
   "id": "d88a7913-22b6-4575-a468-0f403f13934d",
   "metadata": {},
   "outputs": [],
   "source": [
    "results_vit_2200_manh['max'] = results_vit_2200_manh.idxmin(axis=1)\n",
    "results_beit_2200_manh['max'] = results_beit_2200_manh.idxmin(axis=1)\n",
    "results_vgg_df_2200_manh['max']= results_vgg_df_2200_manh.idxmin(axis=1)"
   ]
  },
  {
   "cell_type": "code",
   "execution_count": 67,
   "id": "51f7c38d-1be0-4812-97d6-25083c76528d",
   "metadata": {},
   "outputs": [],
   "source": [
    "c_tps_vit, c_fps_vit, res_tps_vit, res_fps_vit = get_number_tps(results_vit_2200_manh)\n",
    "c_tps_beit, c_fps_beit, res_tps_beit, res_fps_beit = get_number_tps(results_beit_2200_manh)\n",
    "c_tps_vgg, c_fps_vgg, res_tps_vgg, res_fps_vgg = get_number_tps(results_vgg_df_2200_manh)\n"
   ]
  },
  {
   "cell_type": "code",
   "execution_count": 68,
   "id": "375c859c-7700-4cec-9c12-b7127ff5429f",
   "metadata": {},
   "outputs": [
    {
     "name": "stdout",
     "output_type": "stream",
     "text": [
      "0.0\n",
      "0.48120300751879697\n",
      "0.31844316674038037\n"
     ]
    }
   ],
   "source": [
    "print(c_tps_vit/len(results_vit_2200_manh))\n",
    "print(c_tps_beit/len(results_beit_2200_manh))\n",
    "print(c_tps_vgg/len(results_vgg_df_2200_manh))"
   ]
  },
  {
   "cell_type": "code",
   "execution_count": 436,
   "id": "2c685b3e-2b7c-4cfe-bf12-e9a347161f5d",
   "metadata": {},
   "outputs": [],
   "source": [
    "results_fps_beit = pd.read_csv(\"/Users/carlalasry/Downloads/results_fps_beit_similarity.csv\", index_col=0).T"
   ]
  },
  {
   "cell_type": "code",
   "execution_count": 437,
   "id": "24a1d4c5-d8e6-4189-a176-da0950402ae7",
   "metadata": {},
   "outputs": [
    {
     "data": {
      "text/plain": [
       "(1286, 1286)"
      ]
     },
     "execution_count": 437,
     "metadata": {},
     "output_type": "execute_result"
    }
   ],
   "source": [
    "results_fps_beit.shape"
   ]
  },
  {
   "cell_type": "code",
   "execution_count": 438,
   "id": "87729f5c-10f7-4091-b112-7313cf24b68b",
   "metadata": {},
   "outputs": [],
   "source": [
    "results_fps_beit['max'] = results_fps_beit.idxmax(axis=1)\n"
   ]
  },
  {
   "cell_type": "code",
   "execution_count": 439,
   "id": "181d3cf8-032a-4e25-9c5e-01902b78922b",
   "metadata": {},
   "outputs": [],
   "source": [
    "c_tps_beit_fps, c_fps_beit_fps, res_tps_beit_fps, res_fps_beit_fps = get_number_tps(results_fps_beit)\n"
   ]
  },
  {
   "cell_type": "code",
   "execution_count": 441,
   "id": "99610b5b-9bda-4962-8ebd-093d9a9180ca",
   "metadata": {},
   "outputs": [
    {
     "name": "stdout",
     "output_type": "stream",
     "text": [
      "0.1321928460342146\n"
     ]
    }
   ],
   "source": [
    "print(c_tps_beit_fps/len(results_fps_beit))"
   ]
  },
  {
   "cell_type": "code",
   "execution_count": 442,
   "id": "acd401c1-7b00-4bf5-9e8c-f5842996f875",
   "metadata": {},
   "outputs": [
    {
     "data": {
      "text/plain": [
       "[('1661068671616843800_ID_0-2.jpg',\n",
       "  '1661068671616843800_1666998809.447.jpg',\n",
       "  0.6176457745562606),\n",
       " ('1674880962070077400_ID_0-6.jpg',\n",
       "  '1674880962070077400_1670291891.579.jpg',\n",
       "  0.5382606781689317),\n",
       " ('1661043755484004400_ID_0-4.jpg',\n",
       "  '1661043755484004400_1666992871.232.jpg',\n",
       "  0.8963722496746102),\n",
       " ('1661022475875598300_ID_0-0.jpg',\n",
       "  '1661022475875598300_1666987712.315.jpg',\n",
       "  0.7315605265295603),\n",
       " ('1661078239226921000_ID_0-3.jpg',\n",
       "  '1661078239226921000_1667001079.733.jpg',\n",
       "  0.6246320796555327),\n",
       " ('1661070938424295400_ID_0-6.jpg',\n",
       "  '1661070938424295400_1666999360.016.jpg',\n",
       "  0.8078600141898191),\n",
       " ('1660729240628347000_ID_0-0.jpg',\n",
       "  '1660729240628347000_1666917890.275.jpg',\n",
       "  0.7070957799518262),\n",
       " ('1660998000358539300_ID_0-5.jpg',\n",
       "  '1660998000358539300_1666981969.795.jpg',\n",
       "  0.8264448507194732),\n",
       " ('1660765174543478800_ID_0-5.jpg',\n",
       "  '1660765174543478800_1666926470.032.jpg',\n",
       "  0.6593916055785987),\n",
       " ('1660960022064066600_ID_0-4.jpg',\n",
       "  '1660960022064066600_1666972916.881.jpg',\n",
       "  0.6999551571395057),\n",
       " ('1660898844260466700_ID_0-0.jpg',\n",
       "  '1660898844260466700_1666958322.956.jpg',\n",
       "  0.7873720217850096),\n",
       " ('1661077806399991800_ID_0-1.jpg',\n",
       "  '1661077806399991800_1667000996.795.jpg',\n",
       "  0.8134416787968598),\n",
       " ('1661056683935350800_ID_0-3.jpg',\n",
       "  '1661056683935350800_1666995959.579.jpg',\n",
       "  0.4774075395742799),\n",
       " ('1660765749423206400_ID_0-4.jpg',\n",
       "  '1660765749423206400_1666926592.587.jpg',\n",
       "  0.8212303618796886),\n",
       " ('1661015730830798800_ID_0-0.jpg',\n",
       "  '1661015730830798800_1666986193.716.jpg',\n",
       "  0.7962543480268826),\n",
       " ('1661079293507223600_ID_0-2.jpg',\n",
       "  '1661079293507223600_1667001354.603.jpg',\n",
       "  0.8463544917478689),\n",
       " ('1660728674619523000_ID_1-3.jpg',\n",
       "  '1660728674619523000_1666917751.958.jpg',\n",
       "  0.6146960969150415),\n",
       " ('1660753521651314700_ID_0-4.jpg',\n",
       "  '1660753521651314700_1666923686.383.jpg',\n",
       "  0.6909660790090868),\n",
       " ('1661078989487321000_ID_0-5.jpg',\n",
       "  '1661078989487321000_1667001276.771.jpg',\n",
       "  0.6372810018498887),\n",
       " ('1661001482306154500_ID_0-1.jpg',\n",
       "  '1661001482306154500_1666982798.426.jpg',\n",
       "  0.8464160947307352),\n",
       " ('1660963082366709800_ID_0-1.jpg',\n",
       "  '1660963082366709800_1666973642.328.jpg',\n",
       "  0.699937696583692),\n",
       " ('1661069806197108700_ID_0-2.jpg',\n",
       "  '1661069806197108700_1666999079.079.jpg',\n",
       "  0.7291053930013958),\n",
       " ('1661071803147202600_ID_0-1.jpg',\n",
       "  '1661071803147202600_1666999563.936.jpg',\n",
       "  0.8012640503264404),\n",
       " ('1661046932698595300_ID_0-0.jpg',\n",
       "  '1661046932698595300_1666993627.897.jpg',\n",
       "  0.6727932823439993),\n",
       " ('1660965044508196900_ID_0-0.jpg',\n",
       "  '1660965044508196900_1666974111.532.jpg',\n",
       "  0.7514742690630726),\n",
       " ('1660904834133487600_ID_0-3.jpg',\n",
       "  '1660904834133487600_1666959752.434.jpg',\n",
       "  0.7224326266533365),\n",
       " ('1660799608479105000_ID_0-1.jpg',\n",
       "  '1660799608479105000_1666934676.413.jpg',\n",
       "  0.6125175592563314),\n",
       " ('1662996509047677000_ID_0-2.jpg',\n",
       "  '1662996509047677000_1667458437.595.jpg',\n",
       "  0.5064669734615337),\n",
       " ('1660939811764076500_ID_0-1.jpg',\n",
       "  '1660939811764076500_1666968091.981.jpg',\n",
       "  0.7869765337041738),\n",
       " ('1660747379655143400_ID_0-0.jpg',\n",
       "  '1660747379655143400_1666922222.062.jpg',\n",
       "  0.838228885675156),\n",
       " ('1661040141487079400_ID_0-5.jpg',\n",
       "  '1661040141487079400_1666992022.706.jpg',\n",
       "  0.8049787861465557),\n",
       " ('1661070910716735500_ID_0-5.jpg',\n",
       "  '1661070910716735500_1666999356.883.jpg',\n",
       "  0.6483016449177763),\n",
       " ('1660895132532142000_ID_0-4.jpg',\n",
       "  '1660895132532142000_1666957447.191.jpg',\n",
       "  0.6612035297828608),\n",
       " ('1660899912780443600_ID_0-2.jpg',\n",
       "  '1660899912780443600_1666958588.834.jpg',\n",
       "  0.7547790903580005),\n",
       " ('1660728555434209300_ID_0-0.jpg',\n",
       "  '1660728555434209300_1666917728.369.jpg',\n",
       "  0.636120678623069),\n",
       " ('1661078650616918000_ID_1-7.jpg',\n",
       "  '1661078650616918000_1667001175.931.jpg',\n",
       "  0.6164509126163169),\n",
       " ('1661667836239597600_ID_1-1.jpg',\n",
       "  '1661667836239597600_1667141671.023.jpg',\n",
       "  0.502168085272957),\n",
       " ('1661062448641306600_ID_0-4.jpg',\n",
       "  '1661062448641306600_1666997334.117.jpg',\n",
       "  0.8381457616210803),\n",
       " ('1660912171594317800_ID_0-3.jpg',\n",
       "  '1660912171594317800_1666961513.993.jpg',\n",
       "  0.6565061301739196),\n",
       " ('1660729427962658800_ID_0-4.jpg',\n",
       "  '1660729427962658800_1666917913.264.jpg',\n",
       "  0.6256402892370063),\n",
       " ('1660960268911489000_ID_0-4.jpg',\n",
       "  '1660960268911489000_1666972974.406.jpg',\n",
       "  0.7599946801179388),\n",
       " ('1660963473875628000_ID_0-0.jpg',\n",
       "  '1660963473875628000_1666973717.884.jpg',\n",
       "  0.7538960551330178),\n",
       " ('1660776818740904000_ID_0-1.jpg',\n",
       "  '1660776818740904000_1666929236.683.jpg',\n",
       "  0.8452739322086328),\n",
       " ('1661078186882056200_ID_0-3.jpg',\n",
       "  '1661078186882056200_1667001092.027.jpg',\n",
       "  0.6533942035049403),\n",
       " ('1660969961583079400_ID_0-0.jpg',\n",
       "  '1660969961583079400_1666975283.265.jpg',\n",
       "  0.8084500247256834),\n",
       " ('1660731136504004600_ID_0-2.jpg',\n",
       "  '1660731136504004600_1666918341.935.jpg',\n",
       "  0.6439487700011313),\n",
       " ('1661077897655464000_ID_0-2.jpg',\n",
       "  '1661077897655464000_1667001018.584.jpg',\n",
       "  0.6738531609935364),\n",
       " ('1660730078197219300_ID_0-4.jpg',\n",
       "  '1660730078197219300_1666918094.607.jpg',\n",
       "  0.7389642449071041),\n",
       " ('1661072384607731700_ID_0-5.jpg',\n",
       "  '1661072384607731700_1666999699.505.jpg',\n",
       "  0.7144140668914223),\n",
       " ('1661022700300202000_ID_0-1.jpg',\n",
       "  '1661022700300202000_1666987859.007.jpg',\n",
       "  0.6832653193232964),\n",
       " ('1675050520080834600_ID_0-1.jpg',\n",
       "  '1675050520080834600_1670332358.038.jpg',\n",
       "  0.4643939272835169),\n",
       " ('1661037219026104300_ID_0-0.jpg',\n",
       "  '1661037219026104300_1666991312.896.jpg',\n",
       "  0.7061685838889251),\n",
       " ('1661058140185067500_ID_0-2.jpg',\n",
       "  '1661058140185067500_1666996307.171.jpg',\n",
       "  0.7234861252955569),\n",
       " ('1661015466069540900_ID_0-4.jpg',\n",
       "  '1661015466069540900_1666986143.277.jpg',\n",
       "  0.8966485517542796),\n",
       " ('1661054319748821000_ID_0-2.jpg',\n",
       "  '1661054319748821000_1666995392.536.jpg',\n",
       "  0.8235506623918497),\n",
       " ('1661074550886006800_ID_0-5.jpg',\n",
       "  '1661074550886006800_1667000220.053.jpg',\n",
       "  0.680330519444665),\n",
       " ('1660992126286098400_ID_0-0.jpg',\n",
       "  '1660992126286098400_1666980571.376.jpg',\n",
       "  0.6518965756879899),\n",
       " ('1660782869125099500_ID_0-4.jpg',\n",
       "  '1660782869125099500_1666930680.744.jpg',\n",
       "  0.8332982901734647),\n",
       " ('1661047379115147300_ID_0-3.jpg',\n",
       "  '1661047379115147300_1666993744.649.jpg',\n",
       "  0.7713036983650596),\n",
       " ('1661066410379554800_ID_0-0.jpg',\n",
       "  '1661066410379554800_1666998258.151.jpg',\n",
       "  0.7135280124785922),\n",
       " ('1661067793455493000_ID_0-1.jpg',\n",
       "  '1661067793455493000_1666998607.823.jpg',\n",
       "  0.5631662564051331),\n",
       " ('1660795918594666500_ID_0-5.jpg',\n",
       "  '1660795918594666500_1666933789.544.jpg',\n",
       "  0.6985626963795423),\n",
       " ('1661047110293864400_ID_0-4.jpg',\n",
       "  '1661047110293864400_1666993670.958.jpg',\n",
       "  0.6907127700092556),\n",
       " ('1660751239736029200_ID_0-1.jpg',\n",
       "  '1660751239736029200_1666923142.954.jpg',\n",
       "  0.6166153919104349),\n",
       " ('1660901415364624400_ID_0-5.jpg',\n",
       "  '1660901415364624400_1666958939.045.jpg',\n",
       "  0.7619753955028187),\n",
       " ('1660949175883378700_ID_0-1.jpg',\n",
       "  '1660949175883378700_1666970326.545.jpg',\n",
       "  0.6701337664470567),\n",
       " ('1661024421919420400_ID_0-4.jpg',\n",
       "  '1661024421919420400_1666988267.592.jpg',\n",
       "  0.7249969649808345),\n",
       " ('1661070762146037800_ID_0-2.jpg',\n",
       "  '1661070762146037800_1666999300.055.jpg',\n",
       "  0.8394567824783767),\n",
       " ('1661070625751527400_ID_0-5.jpg',\n",
       "  '1661070625751527400_1666999262.824.jpg',\n",
       "  0.831286602961815),\n",
       " ('1661031689469669400_ID_0-1.jpg',\n",
       "  '1661031689469669400_1666989999.395.jpg',\n",
       "  0.5926623710277666),\n",
       " ('1660972977635803100_ID_0-5.jpg',\n",
       "  '1660972977635803100_1666976007.195.jpg',\n",
       "  0.7642523907886429),\n",
       " ('1660798604132069400_ID_0-5.jpg',\n",
       "  '1660798604132069400_1666934429.355.jpg',\n",
       "  0.7277722552071945),\n",
       " ('1661000380357574700_ID_0-2.jpg',\n",
       "  '1661000380357574700_1666982536.086.jpg',\n",
       "  0.7590093403819406),\n",
       " ('1661070847554678800_ID_0-5.jpg',\n",
       "  '1661070847554678800_1666999334.375.jpg',\n",
       "  0.5907947530664202),\n",
       " ('1661075750918353000_ID_0-3.jpg',\n",
       "  '1661075750918353000_1667000501.293.jpg',\n",
       "  0.604411390404568),\n",
       " ('1659295875685511200_ID_0-4.jpg',\n",
       "  '1659295875685511200_1666576151.896.jpg',\n",
       "  0.576821651736088),\n",
       " ('1660876728668582000_ID_0-1.jpg',\n",
       "  '1660876728668582000_1666953044.269.jpg',\n",
       "  0.7539007375396984),\n",
       " ('1674890034156667000_ID_0-0.jpg',\n",
       "  '1674890034156667000_1670294094.899.jpg',\n",
       "  0.5737733877575764),\n",
       " ('1660952264979808300_ID_1-1.jpg',\n",
       "  '1660952264979808300_1666971065.204.jpg',\n",
       "  0.4875465588263409),\n",
       " ('1660968773601030100_ID_0-7.jpg',\n",
       "  '1660968773601030100_1666974999.361.jpg',\n",
       "  0.6054001968777075),\n",
       " ('1660942129955946500_ID_0-0.jpg',\n",
       "  '1660942129955946500_1666968643.242.jpg',\n",
       "  0.7456116927791798),\n",
       " ('1661079801592639500_ID_0-0.jpg',\n",
       "  '1661079801592639500_1667001469.362.jpg',\n",
       "  0.6649740074447239),\n",
       " ('1660985375532810200_ID_0-0.jpg',\n",
       "  '1660985375532810200_1666978955.162.jpg',\n",
       "  0.7757865775435899),\n",
       " ('1660918912881111000_ID_0-5.jpg',\n",
       "  '1660918912881111000_1666963119.707.jpg',\n",
       "  0.8536553400131763),\n",
       " ('1660798279291535400_ID_0-6.jpg',\n",
       "  '1660798279291535400_1666934349.569.jpg',\n",
       "  0.8013950568986219),\n",
       " ('1661026392726368300_ID_0-2.jpg',\n",
       "  '1661026392726368300_1666988734.908.jpg',\n",
       "  0.7841746179103796),\n",
       " ('1661024539896819700_ID_0-1.jpg',\n",
       "  '1661024539896819700_1666988291.307.jpg',\n",
       "  0.5447586411432142),\n",
       " ('1661057207673925600_ID_0-0.jpg',\n",
       "  '1661057207673925600_1666996084.213.jpg',\n",
       "  0.8106899792187746),\n",
       " ('1660966258188828700_ID_0-1.jpg',\n",
       "  '1660966258188828700_1666974400.402.jpg',\n",
       "  0.8280444521386293),\n",
       " ('1661074593575710700_ID_0-0.jpg',\n",
       "  '1661074593575710700_1667000228.791.jpg',\n",
       "  0.7951031193523301),\n",
       " ('1661065844945416200_ID_0-0.jpg',\n",
       "  '1661065844945416200_1666998145.049.jpg',\n",
       "  0.6060265072367489),\n",
       " ('1660738738415845400_ID_0-0.jpg',\n",
       "  '1660738738415845400_1666920143.251.jpg',\n",
       "  0.6045615573007038),\n",
       " ('1661067401300635600_ID_0-1.jpg',\n",
       "  '1661067401300635600_1666998514.517.jpg',\n",
       "  0.7972066900170317),\n",
       " ('1660911792773169200_ID_0-5.jpg',\n",
       "  '1660911792773169200_1666961418.564.jpg',\n",
       "  0.6082526925089307),\n",
       " ('1661078146176286700_ID_0-2.jpg',\n",
       "  '1661078146176286700_1667001081.214.jpg',\n",
       "  0.7990241777592089),\n",
       " ('1661763966713536500_ID_0-4.jpg',\n",
       "  '1661763966713536500_1667164590.276.jpg',\n",
       "  0.5349627213416952),\n",
       " ('1661020514669330400_ID_1-0.jpg',\n",
       "  '1661020514669330400_1666987320.436.jpg',\n",
       "  0.7436677425933479),\n",
       " ('1660896784106471400_ID_0-0.jpg',\n",
       "  '1660896784106471400_1666957831.729.jpg',\n",
       "  0.5917083452462242),\n",
       " ('1661075580797403100_ID_0-5.jpg',\n",
       "  '1661075580797403100_1667000476.108.jpg',\n",
       "  0.7533800620566087),\n",
       " ('1660898957993242600_ID_0-2.jpg',\n",
       "  '1660898957993242600_1666958353.236.jpg',\n",
       "  0.7901011692141805),\n",
       " ('1661051802373697500_ID_0-5.jpg',\n",
       "  '1661051802373697500_1666994778.008.jpg',\n",
       "  0.8761396918184409),\n",
       " ('1660870334108233700_ID_0-3.jpg',\n",
       "  '1660870334108233700_1666951530.675.jpg',\n",
       "  0.6333829054331892),\n",
       " ('1660975354082324500_ID_0-4.jpg',\n",
       "  '1660975354082324500_1666976574.698.jpg',\n",
       "  0.7456432182493952),\n",
       " ('1660983153524768800_ID_0-2.jpg',\n",
       "  '1660983153524768800_1666978427.332.jpg',\n",
       "  0.5764042312499451),\n",
       " ('1661074386620285000_ID_0-6.jpg',\n",
       "  '1661074386620285000_1667000182.376.jpg',\n",
       "  0.7980123317856265),\n",
       " ('1661039888335667200_ID_1-0.jpg',\n",
       "  '1661039888335667200_1666991952.495.jpg',\n",
       "  0.5744170484129922),\n",
       " ('1661805258780811300_ID_0-0.jpg',\n",
       "  '1661805258780811300_1667174438.915.jpg',\n",
       "  0.5261718381508165),\n",
       " ('1661035898923446300_ID_0-1.jpg',\n",
       "  '1661035898923446300_1666991004.429.jpg',\n",
       "  0.7191725010385741),\n",
       " ('1660913639927951400_ID_0-3.jpg',\n",
       "  '1660913639927951400_1666961857.436.jpg',\n",
       "  0.6764115029778363),\n",
       " ('1660725888750272500_ID_0-4.jpg',\n",
       "  '1660725888750272500_1666917093.536.jpg',\n",
       "  0.6564489732041785),\n",
       " ('1661067673561313300_ID_0-5.jpg',\n",
       "  '1661067673561313300_1666998585.873.jpg',\n",
       "  0.8042875383600524),\n",
       " ('1662129194043289600_ID_0-2.jpg',\n",
       "  '1662129194043289600_1667251671.006.jpg',\n",
       "  0.6384877532717795),\n",
       " ('1660749877883256800_ID_0-0.jpg',\n",
       "  '1660749877883256800_1666922754.671.jpg',\n",
       "  0.6271111793980171),\n",
       " ('1661069381322502100_ID_0-0.jpg',\n",
       "  '1661069381322502100_1666998994.302.jpg',\n",
       "  0.763340066410417),\n",
       " ('1661064737523269600_ID_0-0.jpg',\n",
       "  '1661064737523269600_1666997881.329.jpg',\n",
       "  0.5443027179369835),\n",
       " ('1660732435459010600_ID_0-3.jpg',\n",
       "  '1660732435459010600_1666918654.489.jpg',\n",
       "  0.5437454394402473),\n",
       " ('1661024916075556900_ID_0-4.jpg',\n",
       "  '1661024916075556900_1666988383.614.jpg',\n",
       "  0.7221974511646363),\n",
       " ('1661059216988811300_ID_0-5.jpg',\n",
       "  '1661059216988811300_1666996567.292.jpg',\n",
       "  0.5202807017927086),\n",
       " ('1660731049564553200_ID_0-4.jpg',\n",
       "  '1660731049564553200_1666918322.514.jpg',\n",
       "  0.6558364174396863),\n",
       " ('1660727250087084000_ID_0-4.jpg',\n",
       "  '1660727250087084000_1666917415.119.jpg',\n",
       "  0.7138837412967406),\n",
       " ('1660988248610107400_ID_0-1.jpg',\n",
       "  '1660988248610107400_1666979621.601.jpg',\n",
       "  0.5630765205956338),\n",
       " ('1661061874717880300_ID_0-1.jpg',\n",
       "  '1661061874717880300_1666997192.696.jpg',\n",
       "  0.6337591564836007),\n",
       " ('1661043293984714800_ID_0-2.jpg',\n",
       "  '1661043293984714800_1666992672.246.jpg',\n",
       "  0.7959631419782554),\n",
       " ('1661059858713112600_ID_0-0.jpg',\n",
       "  '1661059858713112600_1666996715.593.jpg',\n",
       "  0.6130360292881525),\n",
       " ('1661047029771645000_ID_0-0.jpg',\n",
       "  '1661047029771645000_1666993658.574.jpg',\n",
       "  0.8138023074098549),\n",
       " ('1661067949873655800_ID_0-5.jpg',\n",
       "  '1661067949873655800_1666998646.556.jpg',\n",
       "  0.6377730982383211),\n",
       " ('1660749243159265300_ID_1-0.jpg',\n",
       "  '1660749243159265300_1666922658.006.jpg',\n",
       "  0.617905148352827),\n",
       " ('1661291815162196000_ID_0-1.jpg',\n",
       "  '1661291815162196000_1667052020.401.jpg',\n",
       "  0.6425111202730267),\n",
       " ('1661075305734959000_ID_0-5.jpg',\n",
       "  '1661075305734959000_1667000399.022.jpg',\n",
       "  0.8135892508099963),\n",
       " ('1661054421842374700_ID_0-4.jpg',\n",
       "  '1661054421842374700_1666995422.435.jpg',\n",
       "  0.7506629988388887),\n",
       " ('1661459324280537000_ID_0-2.jpg',\n",
       "  '1661459324280537000_1667091967.818.jpg',\n",
       "  0.6059949453056974),\n",
       " ('1661454662844338200_ID_0-3.jpg',\n",
       "  '1661454662844338200_1667090859.425.jpg',\n",
       "  0.5700159388322833),\n",
       " ('1661077938533122000_ID_0-4.jpg',\n",
       "  '1661077938533122000_1667001029.321.jpg',\n",
       "  0.7459865802054997),\n",
       " ('1660931322232782800_ID_0-5.jpg',\n",
       "  '1660931322232782800_1666966070.358.jpg',\n",
       "  0.7622718460492434),\n",
       " ('1660963180429537300_ID_0-0.jpg',\n",
       "  '1660963180429537300_1666973666.038.jpg',\n",
       "  0.6508940797543847),\n",
       " ('1660934627654742000_ID_0-0.jpg',\n",
       "  '1660934627654742000_1666966860.169.jpg',\n",
       "  0.6982739552884882),\n",
       " ('1661044513495400400_ID_0-2.jpg',\n",
       "  '1661044513495400400_1666992981.107.jpg',\n",
       "  0.8665762273718316),\n",
       " ('1661020352786002000_ID_0-3.jpg',\n",
       "  '1661020352786002000_1666987274.496.jpg',\n",
       "  0.7078787680522556),\n",
       " ('1661072525603483600_ID_1-3.jpg',\n",
       "  '1661072525603483600_1666999735.754.jpg',\n",
       "  0.7804992056203488),\n",
       " ('1661074830591586300_ID_0-3.jpg',\n",
       "  '1661074830591586300_1667000289.835.jpg',\n",
       "  0.7372950176785535),\n",
       " ('1661058510881898500_ID_0-5.jpg',\n",
       "  '1661058510881898500_1666996347.421.jpg',\n",
       "  0.7475571288609207),\n",
       " ('1660998062857863200_ID_0-1.jpg',\n",
       "  '1660998062857863200_1666981977.714.jpg',\n",
       "  0.7497039480016257),\n",
       " ('1661076994399465500_ID_0-1.jpg',\n",
       "  '1661076994399465500_1667000809.839.jpg',\n",
       "  0.7118563807857065),\n",
       " ('1661012815491739600_ID_0-5.jpg',\n",
       "  '1661012815491739600_1666985505.783.jpg',\n",
       "  0.7601327980736858),\n",
       " ('1660766333425451000_ID_0-4.jpg',\n",
       "  '1660766333425451000_1666926728.598.jpg',\n",
       "  0.6914743975365725),\n",
       " ('1660760884605153300_ID_0-5.jpg',\n",
       "  '1660760884605153300_1666925441.255.jpg',\n",
       "  0.809191892674793),\n",
       " ('1660916523839107000_ID_0-0.jpg',\n",
       "  '1660916523839107000_1666962542.379.jpg',\n",
       "  0.730794763102527),\n",
       " ('1660749224934981600_ID_0-0.jpg',\n",
       "  '1660749224934981600_1666922632.377.jpg',\n",
       "  0.7279316609172112),\n",
       " ('1662116164974678000_ID_0-5.jpg',\n",
       "  '1662116164974678000_1667248449.972.jpg',\n",
       "  0.6696357536170087),\n",
       " ('1660731808884572200_ID_0-5.jpg',\n",
       "  '1660731808884572200_1666918497.706.jpg',\n",
       "  0.721773151444493),\n",
       " ('1660919159430672400_ID_0-2.jpg',\n",
       "  '1660919159430672400_1666963169.071.jpg',\n",
       "  0.6288032495356267),\n",
       " ('1660919518857298000_ID_0-0.jpg',\n",
       "  '1660919518857298000_1666963263.378.jpg',\n",
       "  0.929928753665331),\n",
       " ('1659813210737459200_ID_0-3.jpg',\n",
       "  '1659813210737459200_1666699470.683.jpg',\n",
       "  0.6330348334174578),\n",
       " ('1661078309028606000_ID_0-1.jpg',\n",
       "  '1661078309028606000_1667001110.563.jpg',\n",
       "  0.6935147929117261),\n",
       " ('1661072349665013800_ID_0-0.jpg',\n",
       "  '1661072349665013800_1666999692.784.jpg',\n",
       "  0.6805309739488661),\n",
       " ('1660916837896007700_ID_0-3.jpg',\n",
       "  '1660916837896007700_1666962617.683.jpg',\n",
       "  0.7098032626344571),\n",
       " ('1661079346443546600_ID_0-4.jpg',\n",
       "  '1661079346443546600_1667001370.203.jpg',\n",
       "  0.6738960410118954),\n",
       " ('1661079319226708000_ID_0-6.jpg',\n",
       "  '1661079319226708000_1667001327.067.jpg',\n",
       "  0.8361554805713023),\n",
       " ('1661061874973704200_ID_0-0.jpg',\n",
       "  '1661061874973704200_1666997190.803.jpg',\n",
       "  0.6803053719957193),\n",
       " ('1661067674962182100_ID_0-6.jpg',\n",
       "  '1661067674962182100_1666998576.044.jpg',\n",
       "  0.6446390533236355),\n",
       " ('1660973953063092200_ID_0-5.jpg',\n",
       "  '1660973953063092200_1666976236.048.jpg',\n",
       "  0.6190052205054603),\n",
       " ('1660924141739552800_ID_0-1.jpg',\n",
       "  '1660924141739552800_1666964368.614.jpg',\n",
       "  0.7288634475537944),\n",
       " ('1661075163728396300_ID_0-0.jpg',\n",
       "  '1661075163728396300_1667000365.316.jpg',\n",
       "  0.8299820596774276),\n",
       " ('1660988914250317800_ID_0-1.jpg',\n",
       "  '1660988914250317800_1666979806.531.jpg',\n",
       "  0.6170288595415724),\n",
       " ('1661075381215592400_ID_0-1.jpg',\n",
       "  '1661075381215592400_1667000421.032.jpg',\n",
       "  0.6326406512247197),\n",
       " ('1661074839563202600_ID_0-3.jpg',\n",
       "  '1661074839563202600_1667000287.204.jpg',\n",
       "  0.7775733231126346),\n",
       " ('1661970992450244600_ID_0-1.jpg',\n",
       "  '1661970992450244600_1667213946.466.jpg',\n",
       "  0.7913550221829557),\n",
       " ('1661006453357445000_ID_0-5.jpg',\n",
       "  '1661006453357445000_1666983947.806.jpg',\n",
       "  0.802361262283783),\n",
       " ('1660738389546139600_ID_1-7.jpg',\n",
       "  '1660738389546139600_1666920071.925.jpg',\n",
       "  0.5855516608476499),\n",
       " ('1661068532886093800_ID_0-6.jpg',\n",
       "  '1661068532886093800_1666998785.802.jpg',\n",
       "  0.6412679876954149)]"
      ]
     },
     "execution_count": 442,
     "metadata": {},
     "output_type": "execute_result"
    }
   ],
   "source": [
    "res_tps_beit_fps"
   ]
  },
  {
   "cell_type": "code",
   "execution_count": null,
   "id": "51398dbb-7d29-4556-b290-abc9644f2dd5",
   "metadata": {},
   "outputs": [],
   "source": []
  }
 ],
 "metadata": {
  "kernelspec": {
   "display_name": "Python 3 (ipykernel)",
   "language": "python",
   "name": "python3"
  },
  "language_info": {
   "codemirror_mode": {
    "name": "ipython",
    "version": 3
   },
   "file_extension": ".py",
   "mimetype": "text/x-python",
   "name": "python",
   "nbconvert_exporter": "python",
   "pygments_lexer": "ipython3",
   "version": "3.8.17"
  }
 },
 "nbformat": 4,
 "nbformat_minor": 5
}
